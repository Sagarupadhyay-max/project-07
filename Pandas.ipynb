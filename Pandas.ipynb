{
 "cells": [
  {
   "cell_type": "markdown",
   "id": "215fc153-80f4-4554-9fcf-99b2711e04a5",
   "metadata": {},
   "source": [
    "FOR LOOP STATEMENTS"
   ]
  },
  {
   "cell_type": "code",
   "execution_count": 22,
   "id": "8f3f9cf0-4ec6-4674-926e-bff1fc1a47c2",
   "metadata": {},
   "outputs": [
    {
     "name": "stdout",
     "output_type": "stream",
     "text": [
      "2 * 1 = 2\n",
      "2 * 2 = 4\n",
      "2 * 3 = 6\n",
      "2 * 4 = 8\n",
      "2 * 5 = 10\n",
      "2 * 6 = 12\n",
      "2 * 7 = 14\n",
      "2 * 8 = 16\n",
      "2 * 9 = 18\n",
      "2 * 10 = 20\n"
     ]
    }
   ],
   "source": [
    "for n in range(1,11):\n",
    "  print(\"2 *\",n,\"=\",2*n)"
   ]
  },
  {
   "cell_type": "code",
   "execution_count": 33,
   "id": "19edbb3b-3a9f-4c64-8241-9f51beb4242e",
   "metadata": {},
   "outputs": [
    {
     "name": "stdout",
     "output_type": "stream",
     "text": [
      "50\n",
      "40\n",
      "30\n",
      "20\n",
      "10\n"
     ]
    }
   ],
   "source": [
    "for r in range(50,0,-10):\n",
    "  print(r)"
   ]
  },
  {
   "cell_type": "code",
   "execution_count": 41,
   "id": "2f15a1c6-c66c-4887-8320-a82c44808d0a",
   "metadata": {},
   "outputs": [
    {
     "name": "stdin",
     "output_type": "stream",
     "text": [
      "Plaese enter no between q to 100 1000\n",
      "Plaese enter no between q to 100 2826\n",
      "Plaese enter no between q to 100 2\n"
     ]
    },
    {
     "name": "stdout",
     "output_type": "stream",
     "text": [
      "valid no 2\n"
     ]
    }
   ],
   "source": [
    "x = 0\n",
    "while not(1<=x<=100):\n",
    "    x=int(input(\"Plaese enter no between 1  to 100\"))\n",
    "print(\"valid no\",x)"
   ]
  },
  {
   "cell_type": "code",
   "execution_count": null,
   "id": "bf33e5a7-73bf-46d2-a6f3-c8cbc7d374c1",
   "metadata": {},
   "outputs": [],
   "source": []
  }
 ],
 "metadata": {
  "kernelspec": {
   "display_name": "Python 3 (ipykernel)",
   "language": "python",
   "name": "python3"
  },
  "language_info": {
   "codemirror_mode": {
    "name": "ipython",
    "version": 3
   },
   "file_extension": ".py",
   "mimetype": "text/x-python",
   "name": "python",
   "nbconvert_exporter": "python",
   "pygments_lexer": "ipython3",
   "version": "3.12.7"
  }
 },
 "nbformat": 4,
 "nbformat_minor": 5
}
