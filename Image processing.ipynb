{
 "cells": [
  {
   "cell_type": "code",
   "execution_count": 4,
   "id": "6837a8d4-7c6b-4d82-904a-a965797ca4fc",
   "metadata": {},
   "outputs": [],
   "source": [
    "import cv2\n",
    "img = cv2.imread(\"C:\\\\Users\\\\asus\\\\Desktop\\\\2a144e7c2f1bb60aada4f1347b9285d0.jpg\")\n",
    "cv2.imshow(\"First\",img)\n",
    "cv2.waitKey(10000)\n",
    "cv2.destroyWindow(\"First\")"
   ]
  },
  {
   "cell_type": "code",
   "execution_count": null,
   "id": "494d1e2b-d9af-488c-831f-54127501a789",
   "metadata": {},
   "outputs": [],
   "source": []
  },
  {
   "cell_type": "code",
   "execution_count": null,
   "id": "36f66680-8fae-4319-b063-7e93384678b2",
   "metadata": {},
   "outputs": [],
   "source": []
  }
 ],
 "metadata": {
  "kernelspec": {
   "display_name": "Python 3 (ipykernel)",
   "language": "python",
   "name": "python3"
  },
  "language_info": {
   "codemirror_mode": {
    "name": "ipython",
    "version": 3
   },
   "file_extension": ".py",
   "mimetype": "text/x-python",
   "name": "python",
   "nbconvert_exporter": "python",
   "pygments_lexer": "ipython3",
   "version": "3.12.7"
  }
 },
 "nbformat": 4,
 "nbformat_minor": 5
}
