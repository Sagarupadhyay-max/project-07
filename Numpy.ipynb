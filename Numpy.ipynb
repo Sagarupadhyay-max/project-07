{
 "cells": [
  {
   "cell_type": "code",
   "execution_count": 46,
   "id": "83f0e9e2-482b-427a-a9ef-082ccb1b7e1c",
   "metadata": {},
   "outputs": [
    {
     "name": "stdout",
     "output_type": "stream",
     "text": [
      "[[1 2]\n",
      " [3 4]\n",
      " [5 6]]\n",
      "2\n"
     ]
    }
   ],
   "source": [
    "import numpy as np\n",
    "import matplotlib.pyplot as pd\n",
    "\n",
    "x = np.array([[1,2],[3,4],[5,6]])\n",
    "print(x)\n",
    "print(x.ndim)"
   ]
  },
  {
   "cell_type": "markdown",
   "id": "3f023151-73b0-4563-a90b-c7a3c655f298",
   "metadata": {},
   "source": [
    "ARRAY"
   ]
  },
  {
   "cell_type": "code",
   "execution_count": 45,
   "id": "86fb2376-bfc1-4d64-8700-13a0eef45217",
   "metadata": {},
   "outputs": [
    {
     "name": "stdout",
     "output_type": "stream",
     "text": [
      "[1 2 3]\n",
      "<class 'numpy.ndarray'>\n",
      "1\n"
     ]
    }
   ],
   "source": [
    "x = [1,2,3,5]\n",
    "y = np.array([1,2,3])\n",
    "print(y)\n",
    "print(type(y)) ## For array type\n",
    "print(y.ndim) ## For dimension type"
   ]
  },
  {
   "cell_type": "code",
   "execution_count": 47,
   "id": "7edab267-8b10-4045-9f77-74ec45abbe15",
   "metadata": {},
   "outputs": [
    {
     "name": "stdout",
     "output_type": "stream",
     "text": [
      "[[0 0 0]\n",
      " [0 0 0]\n",
      " [0 0 0]]\n",
      "2\n"
     ]
    }
   ],
   "source": [
    "x = np.array([[0,0,0],[0,0,0],[0,0,0]])\n",
    "print(x)\n",
    "print(x.ndim)  ##for dimension of array\n"
   ]
  },
  {
   "cell_type": "markdown",
   "id": "eb4e705d-ae16-44bc-b6ee-e84f4e16fb5c",
   "metadata": {},
   "source": [
    "Arthmetic Operatons  \"ADDITION\""
   ]
  },
  {
   "cell_type": "code",
   "execution_count": 55,
   "id": "52feaeb7-2ca4-4372-9b89-d27ffb146242",
   "metadata": {},
   "outputs": [
    {
     "name": "stdout",
     "output_type": "stream",
     "text": [
      "[[35 67]\n",
      " [22 42]]\n"
     ]
    }
   ],
   "source": [
    "x = np.array([[1,2],[2,0]])\n",
    "y = np.array([[11,21],[12,23]])\n",
    "z = x @ y\n",
    "print(z)"
   ]
  },
  {
   "cell_type": "markdown",
   "id": "030952ae-edf3-4200-b83e-bd28c798957f",
   "metadata": {},
   "source": [
    "SUBTRATION"
   ]
  },
  {
   "cell_type": "code",
   "execution_count": 51,
   "id": "50a0e4bc-2498-48b7-8cb2-e3cd5f8c4354",
   "metadata": {},
   "outputs": [
    {
     "name": "stdout",
     "output_type": "stream",
     "text": [
      "[[ 0  2  1]\n",
      " [ 1  0 -1]]\n"
     ]
    }
   ],
   "source": [
    "x = np.array([[1,4,3],[2,3,1]])\n",
    "y = np.array([[1,2,2],[1,3,2]])\n",
    "z = x-y\n",
    "print(z)"
   ]
  },
  {
   "cell_type": "code",
   "execution_count": null,
   "id": "55e2ca30-857b-485e-aba8-20066a45e054",
   "metadata": {},
   "outputs": [],
   "source": []
  }
 ],
 "metadata": {
  "kernelspec": {
   "display_name": "Python 3 (ipykernel)",
   "language": "python",
   "name": "python3"
  },
  "language_info": {
   "codemirror_mode": {
    "name": "ipython",
    "version": 3
   },
   "file_extension": ".py",
   "mimetype": "text/x-python",
   "name": "python",
   "nbconvert_exporter": "python",
   "pygments_lexer": "ipython3",
   "version": "3.12.7"
  }
 },
 "nbformat": 4,
 "nbformat_minor": 5
}
