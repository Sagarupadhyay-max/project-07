{
 "cells": [
  {
   "cell_type": "code",
   "execution_count": 1,
   "id": "aad85b07-2770-40da-b1c9-1acdbf5ea635",
   "metadata": {},
   "outputs": [],
   "source": [
    "import requests\n",
    "from bs4 import BeautifulSoup"
   ]
  },
  {
   "cell_type": "code",
   "execution_count": 5,
   "id": "ca95c89e-1615-4da7-9fdf-a0c0babf49eb",
   "metadata": {},
   "outputs": [
    {
     "data": {
      "text/plain": [
       "500"
      ]
     },
     "execution_count": 5,
     "metadata": {},
     "output_type": "execute_result"
    }
   ],
   "source": [
    "url = \"https://www.amazon.in/boAt-BassHeads-100-Headphones-Black/dp//ref=sr_1_1?_encoding=UTF8&conB071Z8M4KXtent-id=amzn1.sym.82b20790-8877-4d70-8f73-9d8246e460aa&dib=eyJ2IjoiMSJ9.u-Idkf73CqPLuA1aaV9B-4A337JEK0-L7rnhmLUexJ1U0KCJ_Ch6mTt7QVdhl1bcs6u3leKD4mTjltw5mEbKEtuEk0uPg7ZX_rNyrLacFusCs-OcgTXQ4H49sZh2kwNbKu9ly2X4-x2QZmI3G7tzvSO51Cntw7VmAgzS9RI_qs--LDIVa42WTCQz3XxVtIcme7wZWFrZNivxxyFUrB803zXO0TDw7X8Zj8YsEloDFlAwHqBdpGERONiGyVSk9lQH6HFgLy4I3FJ8fpKsmdbTLN9Z9VmTXC7FLKMt1dKx3cw.p1detGdEznOk92dEF7_sT-fUxi5VRpBgcs5NUuK6Yfc&dib_tag=se&pd_rd_r=a4d89033-b66b-4a57-b70e-2251847769e3&pd_rd_w=PnYqK&pd_rd_wg=D3vtq&qid=1751544244&refinements=p_89%3AboAt&s=electronics&sr=1-1&th=1\"\n",
    "web = requests.get(url)\n",
    "web.status_code"
   ]
  },
  {
   "cell_type": "code",
   "execution_count": 7,
   "id": "173ff9ef-6fcf-4a5a-88f6-c196222bf492",
   "metadata": {},
   "outputs": [
    {
     "name": "stdout",
     "output_type": "stream",
     "text": [
      "<html>\n",
      " <head>\n",
      "  <meta content=\"text/html;charset=utf-8\" http-equiv=\"Content-Type\"/>\n",
      "  <title>\n",
      "   503 - Service Unavailable Error\n",
      "  </title>\n",
      "  <style type=\"text/css\">\n",
      "   a:link { font-family: verdana,arial,helvetica,sans-serif; color: #004B91; }\n",
      "            a:visited { font-family: verdana,arial,helvetica,sans-serif; color: #996633; }\n",
      "            a:active { font-family: verdana,arial,helvetica,sans-serif; color: #FF9933; }\n",
      "  </style>\n",
      " </head>\n",
      " <body bgcolor=\"#FFFFFF\" style=\"font-family: verdana,arial,helvetica,sans-serif;\" text=\"#000000\">\n",
      "  <!--\n",
      "            To discuss automated access to Amazon data please contact api-services-support@amazon.com.\n",
      "        -->\n",
      "  <center>\n",
      "   <a href=\"/ref=cs_503_logo\">\n",
      "    <img alt=\"Amazon\" border=\"0\" src=\"https://images-eu.ssl-images-amazon.com/images/G/31/ShoppingPortal/logo._TTD_.png\"/>\n",
      "   </a>\n",
      "   <table align=\"center\" border=\"0\" style=\"margin-top: 20px;\">\n",
      "    <tr>\n",
      "     <td>\n",
      "      <img border=\"0\" height=\"35\" src=\"https://images-eu.ssl-images-amazon.com/images/G/31/x-locale/common/kailey-kitty._TTD_.gif\" width=\"40\"/>\n",
      "     </td>\n",
      "     <td>\n",
      "      <b style=\"color:#E47911\">\n",
      "       We're sorry\n",
      "      </b>\n",
      "      <br/>\n",
      "      An error occurred when we tried to process your request.\n",
      "      <br/>\n",
      "      <br/>\n",
      "      we're working on the problem and expect to resolve it shortly. Please note that if you were trying to place an order, it will not have been processed at this time. Please try again later.\n",
      "      <br/>\n",
      "      <br/>\n",
      "      <img border=\"0\" height=\"9\" src=\"https://images-eu.ssl-images-amazon.com/images/G/31/x-locale/common/orange-arrow._TTD_.gif\" width=\"10\"/>\n",
      "      <b>\n",
      "       <a href=\"/ref=cs_503_link\">\n",
      "        Click here to return to the Amazon home page\n",
      "       </a>\n",
      "      </b>\n",
      "     </td>\n",
      "    </tr>\n",
      "   </table>\n",
      "  </center>\n",
      " </body>\n",
      "</html>\n",
      "<!-- e8438242 -->\n",
      "\n"
     ]
    }
   ],
   "source": [
    "soup = BeautifulSoup(web.content,\"html.parser\")\n",
    "print(soup.prettify())"
   ]
  },
  {
   "cell_type": "code",
   "execution_count": 9,
   "id": "66103ae0-ca18-4c07-83e4-1516a5c04057",
   "metadata": {},
   "outputs": [
    {
     "data": {
      "text/plain": [
       "200"
      ]
     },
     "execution_count": 9,
     "metadata": {},
     "output_type": "execute_result"
    }
   ],
   "source": [
    "new = \"https://images-eu.ssl-images-amazon.com/images/G/31/x-locale/common/orange-arrow._TTD_.gif\" \n",
    "w1 = requests.get(new)\n",
    "w1.status_code"
   ]
  },
  {
   "cell_type": "code",
   "execution_count": 12,
   "id": "00c9e40d-f649-4e0b-afe1-1c7501440250",
   "metadata": {},
   "outputs": [
    {
     "name": "stdout",
     "output_type": "stream",
     "text": [
      "GIF89a\n",
      "\u0000\t\u0000ð\u0001\u0000Ìf\u0000ÀÀÀ!ù\u0004\u0001\u0000\u0000\u0001\u0000,\u0000\u0000\u0000\u0000\n",
      "\u0000\t\u0000\u0000\u0002\u0010D–º}Ökr:{aÀ‰é\u0002\u0000;\n",
      "\n"
     ]
    }
   ],
   "source": [
    "soup = BeautifulSoup(w1.content,\"html.parser\")\n",
    "print(soup.prettify())"
   ]
  },
  {
   "cell_type": "code",
   "execution_count": 21,
   "id": "07ab577d-79e9-4b4a-94d0-5dc96c0384fc",
   "metadata": {},
   "outputs": [],
   "source": [
    "soup.find(\"image\")"
   ]
  },
  {
   "cell_type": "code",
   "execution_count": null,
   "id": "f7749af5-c001-48fd-89d7-108e438da668",
   "metadata": {},
   "outputs": [],
   "source": []
  }
 ],
 "metadata": {
  "kernelspec": {
   "display_name": "Python [conda env:base] *",
   "language": "python",
   "name": "conda-base-py"
  },
  "language_info": {
   "codemirror_mode": {
    "name": "ipython",
    "version": 3
   },
   "file_extension": ".py",
   "mimetype": "text/x-python",
   "name": "python",
   "nbconvert_exporter": "python",
   "pygments_lexer": "ipython3",
   "version": "3.12.7"
  }
 },
 "nbformat": 4,
 "nbformat_minor": 5
}
