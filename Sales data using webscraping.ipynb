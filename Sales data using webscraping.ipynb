{
 "cells": [
  {
   "cell_type": "code",
   "execution_count": 190,
   "id": "9393eeb3-49f9-4f4e-a027-268a3b5de777",
   "metadata": {},
   "outputs": [],
   "source": [
    "import requests\n",
    "from bs4 import BeautifulSoup\n",
    "from selenium import webdriver\n",
    "import pandas as pd"
   ]
  },
  {
   "cell_type": "code",
   "execution_count": 191,
   "id": "903166df-262e-4fa7-96a6-5f50de54cfac",
   "metadata": {
    "scrolled": true
   },
   "outputs": [],
   "source": [
    "web = requests.get(\"https://www.screener.in/company/TCS/consolidated\")"
   ]
  },
  {
   "cell_type": "code",
   "execution_count": 192,
   "id": "e4c441e9-8465-46c0-8a86-38e38b7863f2",
   "metadata": {},
   "outputs": [
    {
     "name": "stdout",
     "output_type": "stream",
     "text": [
      "📊 Found Sales Table:\n",
      "           Unnamed: 0 Mar 2022 Jun 2022 Sep 2022 Dec 2022 Mar 2023 Jun 2023  \\\n",
      "0             Sales +    50591    52758    55309    58229    59162    59381   \n",
      "1          Expenses +    36746    39342    40793    42676    43388    44383   \n",
      "2    Operating Profit    13845    13416    14516    15553    15774    14998   \n",
      "3               OPM %      27%      25%      26%      27%      27%      25%   \n",
      "4      Other Income +      981      789      965      520     1175     1397   \n",
      "5            Interest      245      199      148      160      272      163   \n",
      "6        Depreciation     1217     1230     1237     1269     1286     1243   \n",
      "7   Profit before tax    13364    12776    14096    14644    15391    14989   \n",
      "8               Tax %      25%      25%      26%      26%      26%      26%   \n",
      "9        Net Profit +     9959     9519    10465    10883    11436    11120   \n",
      "10          EPS in Rs    27.13    25.90    28.51    29.64    31.13    30.26   \n",
      "11            Raw PDF      NaN      NaN      NaN      NaN      NaN      NaN   \n",
      "\n",
      "   Sep 2023 Dec 2023 Mar 2024 Jun 2024 Sep 2024 Dec 2024 Mar 2025  \n",
      "0     59692    60583    61237    62613    64259    63973    64479  \n",
      "1     43946    44195    44073    45951    47528    46939    47499  \n",
      "2     15746    16388    17164    16662    16731    17034    16980  \n",
      "3       26%      27%      28%      27%      26%      27%      26%  \n",
      "4      1006      -96     1157      962      729     1243     1028  \n",
      "5       159      230      226      173      162      234      227  \n",
      "6      1263     1233     1246     1220     1266     1377     1379  \n",
      "7     15330    14829    16849    16231    16032    16666    16402  \n",
      "8       26%      25%      26%      25%      25%      25%      25%  \n",
      "9     11380    11097    12502    12105    11955    12444    12293  \n",
      "10    31.00    30.56    34.37    33.28    32.92    34.22    33.79  \n",
      "11      NaN      NaN      NaN      NaN      NaN      NaN      NaN  \n"
     ]
    },
    {
     "name": "stderr",
     "output_type": "stream",
     "text": [
      "C:\\Users\\asus\\AppData\\Local\\Temp\\ipykernel_19592\\3307917393.py:10: FutureWarning: Passing literal html to 'read_html' is deprecated and will be removed in a future version. To read from a literal string, wrap it in a 'StringIO' object.\n",
      "  tables = pd.read_html(str(soup))\n"
     ]
    }
   ],
   "source": [
    "# # Set a user-agent to mimic a browser\n",
    "headers = {\n",
    "    \"User-Agent\": \"Mozilla/5.0\"\n",
    "}\n",
    "response = requests.get(url, headers=headers)\n",
    "\n",
    "# Parse HTML content\n",
    "soup = BeautifulSoup(response.content, \"html.parser\")\n",
    "\n",
    "tables = pd.read_html(str(soup))\n",
    "\n",
    "for table in tables:\n",
    "    if 'Sales' in table.columns or 'Mar 2024' in table.columns:  # adjust as needed\n",
    "        print(\"📊 Found Sales Table:\")\n",
    "        print(table)\n",
    "        break"
   ]
  },
  {
   "cell_type": "code",
   "execution_count": null,
   "id": "588aacdd-6953-4ac7-acfe-3cab5f8b8ed2",
   "metadata": {},
   "outputs": [],
   "source": []
  },
  {
   "cell_type": "code",
   "execution_count": null,
   "id": "b47f1a3e-f13d-4b25-b4fa-b589f8f05eff",
   "metadata": {},
   "outputs": [],
   "source": []
  }
 ],
 "metadata": {
  "kernelspec": {
   "display_name": "Python [conda env:base] *",
   "language": "python",
   "name": "conda-base-py"
  },
  "language_info": {
   "codemirror_mode": {
    "name": "ipython",
    "version": 3
   },
   "file_extension": ".py",
   "mimetype": "text/x-python",
   "name": "python",
   "nbconvert_exporter": "python",
   "pygments_lexer": "ipython3",
   "version": "3.12.7"
  }
 },
 "nbformat": 4,
 "nbformat_minor": 5
}
