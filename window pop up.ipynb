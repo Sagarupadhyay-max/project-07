{
 "cells": [
  {
   "cell_type": "code",
   "execution_count": 1,
   "id": "6063ea15-6e87-4e33-bcbd-776fcaa3d069",
   "metadata": {},
   "outputs": [
    {
     "name": "stdout",
     "output_type": "stream",
     "text": [
      "Requirement already satisfied: plyer in c:\\users\\asus\\anaconda3\\lib\\site-packages (2.1.0)\n",
      "Note: you may need to restart the kernel to use updated packages.\n"
     ]
    }
   ],
   "source": [
    "pip install plyer"
   ]
  },
  {
   "cell_type": "code",
   "execution_count": null,
   "id": "a1718508-d8ad-431b-ae28-43f7556c0841",
   "metadata": {},
   "outputs": [
    {
     "name": "stdout",
     "output_type": "stream",
     "text": [
      "Nifty 50: 24855.05\n",
      "Change: 33.95 (0.14%)\n",
      "Nifty 50: 24855.05\n",
      "Change: 33.95 (0.14%)\n"
     ]
    }
   ],
   "source": [
    "import requests\n",
    "from plyer import notification\n",
    "import time\n",
    "\n",
    "def fetch_nifty_price():\n",
    "    url = 'https://query1.finance.yahoo.com/v8/finance/chart/%5ENSEI'\n",
    "    headers = {'User-Agent': 'Mozilla/5.0'}\n",
    "\n",
    "    try:\n",
    "        response = requests.get(url, headers=headers)\n",
    "        data = response.json()\n",
    "\n",
    "        meta = data['chart']['result'][0]['meta']\n",
    "        current_price = meta['regularMarketPrice']\n",
    "        previous_close = meta['previousClose']\n",
    "\n",
    "        change = round(current_price - previous_close, 2)\n",
    "        percent = round((change / previous_close) * 100, 2)\n",
    "\n",
    "        return f\"Nifty 50: {current_price}\\nChange: {change} ({percent}%)\"\n",
    "       except Exception as e:\n",
    "        return f\"Error fetching data: {e}\"\n",
    "\n",
    "def show_notification(message):\n",
    "    notification.notify(title=\"📈 Nifty 50 Price Update\",message=message,timeout=5)\n",
    "\n",
    "if __name__ == \"__main__\":\n",
    "    while True:\n",
    "        msg = fetch_nifty_price()\n",
    "        print(msg) \n",
    "        show_notification(msg)\n",
    "        time.sleep(300)\n"
   ]
  }
 ],
 "metadata": {
  "kernelspec": {
   "display_name": "Python [conda env:base] *",
   "language": "python",
   "name": "conda-base-py"
  },
  "language_info": {
   "codemirror_mode": {
    "name": "ipython",
    "version": 3
   },
   "file_extension": ".py",
   "mimetype": "text/x-python",
   "name": "python",
   "nbconvert_exporter": "python",
   "pygments_lexer": "ipython3",
   "version": "3.12.7"
  }
 },
 "nbformat": 4,
 "nbformat_minor": 5
}
