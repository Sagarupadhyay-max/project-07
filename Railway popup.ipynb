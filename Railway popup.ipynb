{
 "cells": [
  {
   "cell_type": "code",
   "execution_count": 2,
   "id": "86fc45c0-b0bd-4717-ae08-7ce936a7e579",
   "metadata": {},
   "outputs": [
    {
     "name": "stdout",
     "output_type": "stream",
     "text": [
      "Requirement already satisfied: plyer in c:\\users\\asus\\anaconda3\\lib\\site-packages (2.1.0)\n",
      "Note: you may need to restart the kernel to use updated packages.\n"
     ]
    }
   ],
   "source": [
    "pip install plyer"
   ]
  },
  {
   "cell_type": "code",
   "execution_count": 4,
   "id": "f15a4adc-24f2-43b5-8bdc-79f4847591a9",
   "metadata": {},
   "outputs": [
    {
     "name": "stdout",
     "output_type": "stream",
     "text": [
      "Requirement already satisfied: bs4 in c:\\users\\asus\\anaconda3\\lib\\site-packages (0.0.2)\n",
      "Requirement already satisfied: beautifulsoup4 in c:\\users\\asus\\anaconda3\\lib\\site-packages (from bs4) (4.12.3)\n",
      "Requirement already satisfied: soupsieve>1.2 in c:\\users\\asus\\anaconda3\\lib\\site-packages (from beautifulsoup4->bs4) (2.5)\n",
      "Note: you may need to restart the kernel to use updated packages.\n"
     ]
    }
   ],
   "source": [
    "pip install bs4"
   ]
  },
  {
   "cell_type": "code",
   "execution_count": 6,
   "id": "c89e7cb5-6b02-4d9c-81fe-ccaccb482a3f",
   "metadata": {},
   "outputs": [
    {
     "name": "stdout",
     "output_type": "stream",
     "text": [
      "Requirement already satisfied: requests in c:\\users\\asus\\anaconda3\\lib\\site-packages (2.32.3)\n",
      "Requirement already satisfied: charset-normalizer<4,>=2 in c:\\users\\asus\\anaconda3\\lib\\site-packages (from requests) (3.3.2)\n",
      "Requirement already satisfied: idna<4,>=2.5 in c:\\users\\asus\\anaconda3\\lib\\site-packages (from requests) (3.7)\n",
      "Requirement already satisfied: urllib3<3,>=1.21.1 in c:\\users\\asus\\anaconda3\\lib\\site-packages (from requests) (2.4.0)\n",
      "Requirement already satisfied: certifi>=2017.4.17 in c:\\users\\asus\\anaconda3\\lib\\site-packages (from requests) (2025.7.14)\n",
      "Note: you may need to restart the kernel to use updated packages.\n"
     ]
    }
   ],
   "source": [
    "pip install requests"
   ]
  },
  {
   "cell_type": "code",
   "execution_count": 10,
   "id": "0792655b-5e30-4c29-b1de-efd9d840aacf",
   "metadata": {},
   "outputs": [],
   "source": [
    "import requests\n",
    "from plyer import notification\n",
    "\n",
    "url = \"https://indian-railway-irctc.p.rapidapi.com/getSeatAvailability\"\n",
    "\n",
    "querystring = {\n",
    "    \"trainNo\": \"22614\",\n",
    "    \"fromStationCode\": \"MAS\",\n",
    "    \"toStationCode\": \"RMM\",\n",
    "    \"date\": \"2025-08-20\",\n",
    "    \"classCode\": \"3A\",\n",
    "    \"quotaCode\": \"GN\"\n",
    "}\n",
    "\n",
    "headers = {\n",
    "    \"X-RapidAPI-Key\": \"8f839d8da4msh915145144490846p137973jsnf9821b4c703e\",\n",
    "    \"X-RapidAPI-Host\": \"indian-railway-irctc.p.rapidapi.com\"\n",
    "}\n",
    "\n",
    "response = requests.get(url, headers=headers, params=querystring)\n",
    "data = response.json()\n",
    "\n",
    "# prepare notification message\n",
    "if data.get(\"status\") is False:\n",
    "    message = f\"Error: {data.get('message')}\"\n",
    "else:\n",
    "    # pick some details (you can customize based on response structure)\n",
    "    seats = data.get(\"availability\", [])\n",
    "    if seats:\n",
    "        message = f\"{len(seats)} dates found!\\nFirst: {seats[0]}\"\n",
    "    else:\n",
    "        message = \"No seat data available.\"\n",
    "\n",
    "# show popup\n",
    "notification.notify(\n",
    "    title=\"IRCTC Seat Availability\",\n",
    "    message=message,\n",
    "    timeout=10  # seconds\n",
    ")\n"
   ]
  }
 ],
 "metadata": {
  "kernelspec": {
   "display_name": "Python [conda env:base] *",
   "language": "python",
   "name": "conda-base-py"
  },
  "language_info": {
   "codemirror_mode": {
    "name": "ipython",
    "version": 3
   },
   "file_extension": ".py",
   "mimetype": "text/x-python",
   "name": "python",
   "nbconvert_exporter": "python",
   "pygments_lexer": "ipython3",
   "version": "3.12.7"
  }
 },
 "nbformat": 4,
 "nbformat_minor": 5
}
