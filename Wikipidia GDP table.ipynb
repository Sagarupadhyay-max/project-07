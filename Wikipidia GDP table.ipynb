{
 "cells": [
  {
   "cell_type": "code",
   "execution_count": 42,
   "id": "7aa40854-f311-436a-8363-c357b54f28dd",
   "metadata": {},
   "outputs": [],
   "source": [
    "import requests\n",
    "from bs4 import BeautifulSoup\n",
    "import pandas as pd"
   ]
  },
  {
   "cell_type": "code",
   "execution_count": 48,
   "id": "c9cc32c4-c746-450b-958e-671579e3ac51",
   "metadata": {},
   "outputs": [
    {
     "name": "stdout",
     "output_type": "stream",
     "text": [
      "  Country/Territory IMF[1][12]            World Bank[13]             \\\n",
      "  Country/Territory   Forecast       Year       Estimate       Year   \n",
      "0             World  113795678       2025      111326370       2024   \n",
      "1     United States   30507217       2025       29184890       2024   \n",
      "2             China   19231705  [n 1]2025       18743803  [n 3]2024   \n",
      "3           Germany    4744804       2025        4659929       2024   \n",
      "4             India    4187017       2025        3912686       2024   \n",
      "\n",
      "  United Nations[14]             \n",
      "            Estimate       Year  \n",
      "0          100834796       2022  \n",
      "1           27720700       2023  \n",
      "2           17794782  [n 1]2023  \n",
      "3            4525704       2023  \n",
      "4            3575778       2023  \n"
     ]
    },
    {
     "name": "stderr",
     "output_type": "stream",
     "text": [
      "C:\\Users\\asus\\AppData\\Local\\Temp\\ipykernel_12916\\821670502.py:5: FutureWarning: Passing literal html to 'read_html' is deprecated and will be removed in a future version. To read from a literal string, wrap it in a 'StringIO' object.\n",
      "  df = pd.read_html(str(table))[0]\n"
     ]
    }
   ],
   "source": [
    "web = requests.get(\"https://en.wikipedia.org/wiki/List_of_countries_by_GDP_(nominal)\")\n",
    "soup = BeautifulSoup(web.content,\"html.parser\")\n",
    "table = soup.find(\"table\",class_=\"wikitable\")\n",
    "tittle = table.find(\"tr\")\n",
    "df = pd.read_html(str(table))[0]\n",
    "print(df.head())"
   ]
  },
  {
   "cell_type": "code",
   "execution_count": null,
   "id": "4e7be7fe-b933-4c7a-8b48-2e23c4dc0545",
   "metadata": {},
   "outputs": [],
   "source": []
  },
  {
   "cell_type": "code",
   "execution_count": 37,
   "id": "e41d30db-d7bc-4aa3-88ad-8c41ceba5cac",
   "metadata": {},
   "outputs": [],
   "source": []
  },
  {
   "cell_type": "code",
   "execution_count": 36,
   "id": "699a42fe-8566-492a-9bd3-d3e72489c41a",
   "metadata": {},
   "outputs": [],
   "source": []
  },
  {
   "cell_type": "code",
   "execution_count": null,
   "id": "f73b6a89-cfbb-4fdf-afaf-638f8ce3c069",
   "metadata": {},
   "outputs": [],
   "source": []
  }
 ],
 "metadata": {
  "kernelspec": {
   "display_name": "Python [conda env:base] *",
   "language": "python",
   "name": "conda-base-py"
  },
  "language_info": {
   "codemirror_mode": {
    "name": "ipython",
    "version": 3
   },
   "file_extension": ".py",
   "mimetype": "text/x-python",
   "name": "python",
   "nbconvert_exporter": "python",
   "pygments_lexer": "ipython3",
   "version": "3.12.7"
  }
 },
 "nbformat": 4,
 "nbformat_minor": 5
}
